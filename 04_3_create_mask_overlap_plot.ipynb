{
 "cells": [
  {
   "cell_type": "code",
   "execution_count": 1,
   "id": "initial_id",
   "metadata": {
    "collapsed": true,
    "ExecuteTime": {
     "end_time": "2023-10-13T09:13:04.204459195Z",
     "start_time": "2023-10-13T09:13:03.908401658Z"
    }
   },
   "outputs": [
    {
     "name": "stdout",
     "output_type": "stream",
     "text": [
      "fabhsr\n",
      "MEAN:  11.200000000000001 %\n",
      "STD:  13.8 %\n",
      "\n",
      "christphgrmmr\n",
      "MEAN:  10.2 %\n",
      "STD:  13.4 %\n",
      "\n",
      "frankfrschlng\n",
      "MEAN:  9.8 %\n",
      "STD:  11.1 %\n",
      "\n",
      "lucfrncs\n",
      "MEAN:  13.4 %\n",
      "STD:  18.8 %\n"
     ]
    }
   ],
   "source": [
    "import os\n",
    "import matplotlib.pyplot as plt\n",
    "import pandas as pd\n",
    "\n",
    "embedding_names = [\"fabhsr\", \"christphgrmmr\", \"frankfrschlng\", \"lucfrncs\"]\n",
    "for name in embedding_names:\n",
    "    path = \"embedding_datasets/\" + name + \"/results/transform-all/mask_overlap.csv\"\n",
    "    if os.path.exists(path):\n",
    "        df = pd.read_csv(path, sep=',', header=None)[1]\n",
    "        print(name)\n",
    "        print(\"MEAN: \", df.mean().round(3) * 100, \"%\")\n",
    "        print(\"STD: \", df.std().round(3) * 100, \"%\")\n",
    "        print()\n",
    "    else:\n",
    "        print(name)        "
   ]
  }
 ],
 "metadata": {
  "kernelspec": {
   "display_name": "Python 3",
   "language": "python",
   "name": "python3"
  },
  "language_info": {
   "codemirror_mode": {
    "name": "ipython",
    "version": 2
   },
   "file_extension": ".py",
   "mimetype": "text/x-python",
   "name": "python",
   "nbconvert_exporter": "python",
   "pygments_lexer": "ipython2",
   "version": "2.7.6"
  }
 },
 "nbformat": 4,
 "nbformat_minor": 5
}
