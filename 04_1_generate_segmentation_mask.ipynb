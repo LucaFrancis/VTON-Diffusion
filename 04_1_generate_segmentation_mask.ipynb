{
 "cells": [
  {
   "cell_type": "code",
   "execution_count": 9,
   "outputs": [
    {
     "name": "stdout",
     "output_type": "stream",
     "text": [
      "final text_encoder_type: bert-base-uncased\n"
     ]
    },
    {
     "name": "stderr",
     "output_type": "stream",
     "text": [
      "Some weights of the model checkpoint at bert-base-uncased were not used when initializing BertModel: ['cls.seq_relationship.weight', 'cls.predictions.transform.dense.weight', 'cls.predictions.transform.LayerNorm.weight', 'cls.predictions.bias', 'cls.predictions.transform.LayerNorm.bias', 'cls.seq_relationship.bias', 'cls.predictions.transform.dense.bias']\n",
      "- This IS expected if you are initializing BertModel from the checkpoint of a model trained on another task or with another architecture (e.g. initializing a BertForSequenceClassification model from a BertForPreTraining model).\n",
      "- This IS NOT expected if you are initializing BertModel from the checkpoint of a model that you expect to be exactly identical (initializing a BertForSequenceClassification model from a BertForSequenceClassification model).\n"
     ]
    },
    {
     "name": "stdout",
     "output_type": "stream",
     "text": [
      "Model loaded from /home/luca/.cache/huggingface/hub/models--ShilongLiu--GroundingDINO/snapshots/a94c9b567a2a374598f05c584e96798a170c56fb/groundingdino_swinb_cogcoor.pth \n",
      " => _IncompatibleKeys(missing_keys=[], unexpected_keys=['label_enc.weight'])\n"
     ]
    },
    {
     "name": "stderr",
     "output_type": "stream",
     "text": [
      "  0%|          | 0/416 [00:00<?, ?it/s]/home/luca/anaconda3/envs/2_lang_sam_virtual-tryon-diffusion/lib/python3.8/site-packages/transformers/modeling_utils.py:874: FutureWarning: The `device` argument is deprecated and will be removed in v5 of Transformers.\n",
      "  warnings.warn(\n",
      "/home/luca/anaconda3/envs/2_lang_sam_virtual-tryon-diffusion/lib/python3.8/site-packages/torch/utils/checkpoint.py:429: UserWarning: torch.utils.checkpoint: please pass in use_reentrant=True or use_reentrant=False explicitly. The default value of use_reentrant will be updated to be False in the future. To maintain current behavior, pass use_reentrant=True. It is recommended that you use use_reentrant=False. Refer to docs for more details on the differences between the two variants.\n",
      "  warnings.warn(\n",
      "/home/luca/anaconda3/envs/2_lang_sam_virtual-tryon-diffusion/lib/python3.8/site-packages/torch/utils/checkpoint.py:61: UserWarning: None of the inputs have requires_grad=True. Gradients will be None\n",
      "  warnings.warn(\n",
      "100%|██████████| 416/416 [02:32<00:00,  2.72it/s]\n"
     ]
    }
   ],
   "source": [
    "import os\n",
    "\n",
    "import torch\n",
    "from PIL import Image\n",
    "from lang_sam import LangSAM\n",
    "from tqdm import tqdm\n",
    "import matplotlib.pyplot as plt\n",
    "import pandas as pd\n",
    "model = LangSAM()\n",
    "text_prompt = \"clothing, shoes, pants\"\n",
    "df = pd.read_csv(\"datasets/query_list.csv\")\n",
    "override_masks = False\n",
    "embedding_name = \"frankfrschlng\"\n",
    "dataset_path = \"embedding_datasets/\"+embedding_name+\"/results/transform-all/\"\n",
    "for path in tqdm(df[\"image_name\"]):\n",
    "    mask_path = dataset_path + (\".\".join(path.split(\".\")[:-1])) + \"_mask_sam.png\"\n",
    "    path = path + \"_00001_.png\"\n",
    "    if override_masks or not os.path.exists(mask_path):\n",
    "        image_pil = Image.open(dataset_path + path).convert(\"RGB\")\n",
    "        masks, _, _, _ = model.predict(image_pil, text_prompt, text_threshold=0.4)\n",
    "        \n",
    "        # Combine all detected objects into one mask\n",
    "        all_detections_mask = masks[0]\n",
    "        for mask in masks:\n",
    "            all_detections_mask = torch.logical_or(all_detections_mask, mask)\n",
    "    \n",
    "        plt.imsave(mask_path, arr=all_detections_mask, cmap=\"Greys\")"
   ],
   "metadata": {
    "collapsed": false,
    "ExecuteTime": {
     "end_time": "2023-10-12T14:58:05.554095719Z",
     "start_time": "2023-10-12T14:55:27.241095199Z"
    }
   },
   "id": "c29f6b534049e046"
  }
 ],
 "metadata": {
  "kernelspec": {
   "display_name": "Python 3",
   "language": "python",
   "name": "python3"
  },
  "language_info": {
   "codemirror_mode": {
    "name": "ipython",
    "version": 2
   },
   "file_extension": ".py",
   "mimetype": "text/x-python",
   "name": "python",
   "nbconvert_exporter": "python",
   "pygments_lexer": "ipython2",
   "version": "2.7.6"
  }
 },
 "nbformat": 4,
 "nbformat_minor": 5
}
