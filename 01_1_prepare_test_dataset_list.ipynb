{
 "cells": [
  {
   "cell_type": "code",
   "execution_count": 49,
   "id": "initial_id",
   "metadata": {
    "collapsed": true,
    "ExecuteTime": {
     "end_time": "2023-10-07T10:45:56.073944236Z",
     "start_time": "2023-10-07T10:45:56.022408Z"
    }
   },
   "outputs": [
    {
     "data": {
      "text/plain": "                                              image_name      item_id   \n25883  img/WOMEN/Blouses_Shirts/id_00000001/02_2_side...  id_00000001  \\\n25885  img/WOMEN/Blouses_Shirts/id_00000001/02_4_full...  id_00000001   \n25887     img/WOMEN/Tees_Tanks/id_00000007/01_2_side.jpg  id_00000007   \n25889     img/WOMEN/Tees_Tanks/id_00000007/01_4_full.jpg  id_00000007   \n25890     img/WOMEN/Tees_Tanks/id_00000007/01_6_flat.jpg  id_00000007   \n...                                                  ...          ...   \n52703  img/WOMEN/Jackets_Coats/id_00007982/11_7_addit...  id_00007982   \n52704  img/WOMEN/Jackets_Coats/id_00007982/12_1_front...  id_00007982   \n52708  img/WOMEN/Jackets_Coats/id_00007982/13_1_front...  id_00007982   \n52710  img/WOMEN/Jackets_Coats/id_00007982/13_3_back.jpg  id_00007982   \n52711  img/WOMEN/Jackets_Coats/id_00007982/13_7_addit...  id_00007982   \n\n      evaluation_status  is_included  \n25883             query         True  \n25885             query         True  \n25887             query         True  \n25889             query         True  \n25890             query         True  \n...                 ...          ...  \n52703             query         True  \n52704             query         True  \n52708             query         True  \n52710             query         True  \n52711             query         True  \n\n[14218 rows x 4 columns]",
      "text/html": "<div>\n<style scoped>\n    .dataframe tbody tr th:only-of-type {\n        vertical-align: middle;\n    }\n\n    .dataframe tbody tr th {\n        vertical-align: top;\n    }\n\n    .dataframe thead th {\n        text-align: right;\n    }\n</style>\n<table border=\"1\" class=\"dataframe\">\n  <thead>\n    <tr style=\"text-align: right;\">\n      <th></th>\n      <th>image_name</th>\n      <th>item_id</th>\n      <th>evaluation_status</th>\n      <th>is_included</th>\n    </tr>\n  </thead>\n  <tbody>\n    <tr>\n      <th>25883</th>\n      <td>img/WOMEN/Blouses_Shirts/id_00000001/02_2_side...</td>\n      <td>id_00000001</td>\n      <td>query</td>\n      <td>True</td>\n    </tr>\n    <tr>\n      <th>25885</th>\n      <td>img/WOMEN/Blouses_Shirts/id_00000001/02_4_full...</td>\n      <td>id_00000001</td>\n      <td>query</td>\n      <td>True</td>\n    </tr>\n    <tr>\n      <th>25887</th>\n      <td>img/WOMEN/Tees_Tanks/id_00000007/01_2_side.jpg</td>\n      <td>id_00000007</td>\n      <td>query</td>\n      <td>True</td>\n    </tr>\n    <tr>\n      <th>25889</th>\n      <td>img/WOMEN/Tees_Tanks/id_00000007/01_4_full.jpg</td>\n      <td>id_00000007</td>\n      <td>query</td>\n      <td>True</td>\n    </tr>\n    <tr>\n      <th>25890</th>\n      <td>img/WOMEN/Tees_Tanks/id_00000007/01_6_flat.jpg</td>\n      <td>id_00000007</td>\n      <td>query</td>\n      <td>True</td>\n    </tr>\n    <tr>\n      <th>...</th>\n      <td>...</td>\n      <td>...</td>\n      <td>...</td>\n      <td>...</td>\n    </tr>\n    <tr>\n      <th>52703</th>\n      <td>img/WOMEN/Jackets_Coats/id_00007982/11_7_addit...</td>\n      <td>id_00007982</td>\n      <td>query</td>\n      <td>True</td>\n    </tr>\n    <tr>\n      <th>52704</th>\n      <td>img/WOMEN/Jackets_Coats/id_00007982/12_1_front...</td>\n      <td>id_00007982</td>\n      <td>query</td>\n      <td>True</td>\n    </tr>\n    <tr>\n      <th>52708</th>\n      <td>img/WOMEN/Jackets_Coats/id_00007982/13_1_front...</td>\n      <td>id_00007982</td>\n      <td>query</td>\n      <td>True</td>\n    </tr>\n    <tr>\n      <th>52710</th>\n      <td>img/WOMEN/Jackets_Coats/id_00007982/13_3_back.jpg</td>\n      <td>id_00007982</td>\n      <td>query</td>\n      <td>True</td>\n    </tr>\n    <tr>\n      <th>52711</th>\n      <td>img/WOMEN/Jackets_Coats/id_00007982/13_7_addit...</td>\n      <td>id_00007982</td>\n      <td>query</td>\n      <td>True</td>\n    </tr>\n  </tbody>\n</table>\n<p>14218 rows × 4 columns</p>\n</div>"
     },
     "execution_count": 49,
     "metadata": {},
     "output_type": "execute_result"
    }
   ],
   "source": [
    "import os\n",
    "\n",
    "import pandas as pd\n",
    "\n",
    "dataset = pd.read_csv(\"datasets/deep-fashion/In-shop Clothes Retrieval Benchmark/Eval/list_eval_partition.txt\",\n",
    "                      delim_whitespace=True)\n",
    "dataset = dataset[dataset[\"evaluation_status\"] == \"query\"]\n",
    "dataset[\"is_included\"] = True\n",
    "dataset"
   ]
  },
  {
   "cell_type": "markdown",
   "source": [
    "Remove missing image from list of images"
   ],
   "metadata": {
    "collapsed": false
   },
   "id": "65da58a4627a0ffb"
  },
  {
   "cell_type": "code",
   "execution_count": 50,
   "outputs": [],
   "source": [
    "dataset = dataset[dataset[\"item_id\"] != \"id_00007982\"]"
   ],
   "metadata": {
    "collapsed": false,
    "ExecuteTime": {
     "end_time": "2023-10-07T10:45:58.157120552Z",
     "start_time": "2023-10-07T10:45:58.155551450Z"
    }
   },
   "id": "998134c6d4b60756"
  },
  {
   "cell_type": "markdown",
   "source": [
    "## Remove all images from test dataset that do not include a face"
   ],
   "metadata": {
    "collapsed": false
   },
   "id": "38b9c96732bc3b02"
  },
  {
   "cell_type": "code",
   "execution_count": 66,
   "outputs": [
    {
     "name": "stderr",
     "output_type": "stream",
     "text": [
      "568it [00:18, 30.36it/s]\n"
     ]
    },
    {
     "data": {
      "text/plain": "                                              image_name      item_id   \n25883  img/WOMEN/Blouses_Shirts/id_00000001/02_2_side...  id_00000001  \\\n25885  img/WOMEN/Blouses_Shirts/id_00000001/02_4_full...  id_00000001   \n25887     img/WOMEN/Tees_Tanks/id_00000007/01_2_side.jpg  id_00000007   \n25889     img/WOMEN/Tees_Tanks/id_00000007/01_4_full.jpg  id_00000007   \n25890     img/WOMEN/Tees_Tanks/id_00000007/01_6_flat.jpg  id_00000007   \n...                                                  ...          ...   \n52694  img/WOMEN/Dresses/id_00007980/05_7_additional.jpg  id_00007980   \n52696        img/WOMEN/Dresses/id_00007980/06_2_side.jpg  id_00007980   \n52697        img/WOMEN/Dresses/id_00007980/06_3_back.jpg  id_00007980   \n52698        img/WOMEN/Dresses/id_00007980/06_4_full.jpg  id_00007980   \n52699  img/WOMEN/Dresses/id_00007980/06_7_additional.jpg  id_00007980   \n\n      evaluation_status  is_included  has_face  has_mask  is_man  \n25883             query        False     False     False   False  \n25885             query        False     False     False   False  \n25887             query        False     False     False   False  \n25889             query        False     False     False   False  \n25890             query        False     False     False   False  \n...                 ...          ...       ...       ...     ...  \n52694             query        False     False     False   False  \n52696             query        False     False     False   False  \n52697             query        False     False     False   False  \n52698             query        False     False     False   False  \n52699             query        False     False     False   False  \n\n[14212 rows x 7 columns]",
      "text/html": "<div>\n<style scoped>\n    .dataframe tbody tr th:only-of-type {\n        vertical-align: middle;\n    }\n\n    .dataframe tbody tr th {\n        vertical-align: top;\n    }\n\n    .dataframe thead th {\n        text-align: right;\n    }\n</style>\n<table border=\"1\" class=\"dataframe\">\n  <thead>\n    <tr style=\"text-align: right;\">\n      <th></th>\n      <th>image_name</th>\n      <th>item_id</th>\n      <th>evaluation_status</th>\n      <th>is_included</th>\n      <th>has_face</th>\n      <th>has_mask</th>\n      <th>is_man</th>\n    </tr>\n  </thead>\n  <tbody>\n    <tr>\n      <th>25883</th>\n      <td>img/WOMEN/Blouses_Shirts/id_00000001/02_2_side...</td>\n      <td>id_00000001</td>\n      <td>query</td>\n      <td>False</td>\n      <td>False</td>\n      <td>False</td>\n      <td>False</td>\n    </tr>\n    <tr>\n      <th>25885</th>\n      <td>img/WOMEN/Blouses_Shirts/id_00000001/02_4_full...</td>\n      <td>id_00000001</td>\n      <td>query</td>\n      <td>False</td>\n      <td>False</td>\n      <td>False</td>\n      <td>False</td>\n    </tr>\n    <tr>\n      <th>25887</th>\n      <td>img/WOMEN/Tees_Tanks/id_00000007/01_2_side.jpg</td>\n      <td>id_00000007</td>\n      <td>query</td>\n      <td>False</td>\n      <td>False</td>\n      <td>False</td>\n      <td>False</td>\n    </tr>\n    <tr>\n      <th>25889</th>\n      <td>img/WOMEN/Tees_Tanks/id_00000007/01_4_full.jpg</td>\n      <td>id_00000007</td>\n      <td>query</td>\n      <td>False</td>\n      <td>False</td>\n      <td>False</td>\n      <td>False</td>\n    </tr>\n    <tr>\n      <th>25890</th>\n      <td>img/WOMEN/Tees_Tanks/id_00000007/01_6_flat.jpg</td>\n      <td>id_00000007</td>\n      <td>query</td>\n      <td>False</td>\n      <td>False</td>\n      <td>False</td>\n      <td>False</td>\n    </tr>\n    <tr>\n      <th>...</th>\n      <td>...</td>\n      <td>...</td>\n      <td>...</td>\n      <td>...</td>\n      <td>...</td>\n      <td>...</td>\n      <td>...</td>\n    </tr>\n    <tr>\n      <th>52694</th>\n      <td>img/WOMEN/Dresses/id_00007980/05_7_additional.jpg</td>\n      <td>id_00007980</td>\n      <td>query</td>\n      <td>False</td>\n      <td>False</td>\n      <td>False</td>\n      <td>False</td>\n    </tr>\n    <tr>\n      <th>52696</th>\n      <td>img/WOMEN/Dresses/id_00007980/06_2_side.jpg</td>\n      <td>id_00007980</td>\n      <td>query</td>\n      <td>False</td>\n      <td>False</td>\n      <td>False</td>\n      <td>False</td>\n    </tr>\n    <tr>\n      <th>52697</th>\n      <td>img/WOMEN/Dresses/id_00007980/06_3_back.jpg</td>\n      <td>id_00007980</td>\n      <td>query</td>\n      <td>False</td>\n      <td>False</td>\n      <td>False</td>\n      <td>False</td>\n    </tr>\n    <tr>\n      <th>52698</th>\n      <td>img/WOMEN/Dresses/id_00007980/06_4_full.jpg</td>\n      <td>id_00007980</td>\n      <td>query</td>\n      <td>False</td>\n      <td>False</td>\n      <td>False</td>\n      <td>False</td>\n    </tr>\n    <tr>\n      <th>52699</th>\n      <td>img/WOMEN/Dresses/id_00007980/06_7_additional.jpg</td>\n      <td>id_00007980</td>\n      <td>query</td>\n      <td>False</td>\n      <td>False</td>\n      <td>False</td>\n      <td>False</td>\n    </tr>\n  </tbody>\n</table>\n<p>14212 rows × 7 columns</p>\n</div>"
     },
     "execution_count": 66,
     "metadata": {},
     "output_type": "execute_result"
    }
   ],
   "source": [
    "from deepface import DeepFace\n",
    "from tqdm import tqdm\n",
    "dataset['has_face'] = False\n",
    "for index, row in tqdm(dataset[dataset[\"is_included\"] == True].iterrows()):\n",
    "    hires_path = row[\"image_name\"].replace(\"img\", \"img_highres\")    \n",
    "    detected_faces = DeepFace.extract_faces(\"datasets/deep-fashion/In-shop Clothes Retrieval Benchmark/Img/\" + hires_path, enforce_detection=False, align=False)\n",
    "    face_detected = not all(face[\"confidence\"] < 5 for face in detected_faces)\n",
    "    dataset[\"has_face\"][index] = face_detected\n",
    "    if not face_detected:\n",
    "        dataset[\"is_included\"][index] = False\n",
    "dataset"
   ],
   "metadata": {
    "collapsed": false,
    "ExecuteTime": {
     "end_time": "2023-10-07T12:34:27.061132179Z",
     "start_time": "2023-10-07T12:34:08.307409705Z"
    }
   },
   "id": "37ea129d5c76b746"
  },
  {
   "cell_type": "markdown",
   "source": [
    "## Remove all images from test dataset that do not provide a ground truth mask"
   ],
   "metadata": {
    "collapsed": false
   },
   "id": "d7daf1acba73c3f2"
  },
  {
   "cell_type": "code",
   "execution_count": 67,
   "outputs": [
    {
     "name": "stderr",
     "output_type": "stream",
     "text": [
      "568it [00:00, 7206.88it/s]\n"
     ]
    },
    {
     "data": {
      "text/plain": "                                              image_name      item_id   \n25883  img/WOMEN/Blouses_Shirts/id_00000001/02_2_side...  id_00000001  \\\n25885  img/WOMEN/Blouses_Shirts/id_00000001/02_4_full...  id_00000001   \n25887     img/WOMEN/Tees_Tanks/id_00000007/01_2_side.jpg  id_00000007   \n25889     img/WOMEN/Tees_Tanks/id_00000007/01_4_full.jpg  id_00000007   \n25890     img/WOMEN/Tees_Tanks/id_00000007/01_6_flat.jpg  id_00000007   \n...                                                  ...          ...   \n52694  img/WOMEN/Dresses/id_00007980/05_7_additional.jpg  id_00007980   \n52696        img/WOMEN/Dresses/id_00007980/06_2_side.jpg  id_00007980   \n52697        img/WOMEN/Dresses/id_00007980/06_3_back.jpg  id_00007980   \n52698        img/WOMEN/Dresses/id_00007980/06_4_full.jpg  id_00007980   \n52699  img/WOMEN/Dresses/id_00007980/06_7_additional.jpg  id_00007980   \n\n      evaluation_status  is_included  has_face  has_mask  is_man  \n25883             query        False     False     False   False  \n25885             query        False     False     False   False  \n25887             query        False     False     False   False  \n25889             query        False     False     False   False  \n25890             query        False     False     False   False  \n...                 ...          ...       ...       ...     ...  \n52694             query        False     False     False   False  \n52696             query        False     False     False   False  \n52697             query        False     False     False   False  \n52698             query        False     False     False   False  \n52699             query        False     False     False   False  \n\n[14212 rows x 7 columns]",
      "text/html": "<div>\n<style scoped>\n    .dataframe tbody tr th:only-of-type {\n        vertical-align: middle;\n    }\n\n    .dataframe tbody tr th {\n        vertical-align: top;\n    }\n\n    .dataframe thead th {\n        text-align: right;\n    }\n</style>\n<table border=\"1\" class=\"dataframe\">\n  <thead>\n    <tr style=\"text-align: right;\">\n      <th></th>\n      <th>image_name</th>\n      <th>item_id</th>\n      <th>evaluation_status</th>\n      <th>is_included</th>\n      <th>has_face</th>\n      <th>has_mask</th>\n      <th>is_man</th>\n    </tr>\n  </thead>\n  <tbody>\n    <tr>\n      <th>25883</th>\n      <td>img/WOMEN/Blouses_Shirts/id_00000001/02_2_side...</td>\n      <td>id_00000001</td>\n      <td>query</td>\n      <td>False</td>\n      <td>False</td>\n      <td>False</td>\n      <td>False</td>\n    </tr>\n    <tr>\n      <th>25885</th>\n      <td>img/WOMEN/Blouses_Shirts/id_00000001/02_4_full...</td>\n      <td>id_00000001</td>\n      <td>query</td>\n      <td>False</td>\n      <td>False</td>\n      <td>False</td>\n      <td>False</td>\n    </tr>\n    <tr>\n      <th>25887</th>\n      <td>img/WOMEN/Tees_Tanks/id_00000007/01_2_side.jpg</td>\n      <td>id_00000007</td>\n      <td>query</td>\n      <td>False</td>\n      <td>False</td>\n      <td>False</td>\n      <td>False</td>\n    </tr>\n    <tr>\n      <th>25889</th>\n      <td>img/WOMEN/Tees_Tanks/id_00000007/01_4_full.jpg</td>\n      <td>id_00000007</td>\n      <td>query</td>\n      <td>False</td>\n      <td>False</td>\n      <td>False</td>\n      <td>False</td>\n    </tr>\n    <tr>\n      <th>25890</th>\n      <td>img/WOMEN/Tees_Tanks/id_00000007/01_6_flat.jpg</td>\n      <td>id_00000007</td>\n      <td>query</td>\n      <td>False</td>\n      <td>False</td>\n      <td>False</td>\n      <td>False</td>\n    </tr>\n    <tr>\n      <th>...</th>\n      <td>...</td>\n      <td>...</td>\n      <td>...</td>\n      <td>...</td>\n      <td>...</td>\n      <td>...</td>\n      <td>...</td>\n    </tr>\n    <tr>\n      <th>52694</th>\n      <td>img/WOMEN/Dresses/id_00007980/05_7_additional.jpg</td>\n      <td>id_00007980</td>\n      <td>query</td>\n      <td>False</td>\n      <td>False</td>\n      <td>False</td>\n      <td>False</td>\n    </tr>\n    <tr>\n      <th>52696</th>\n      <td>img/WOMEN/Dresses/id_00007980/06_2_side.jpg</td>\n      <td>id_00007980</td>\n      <td>query</td>\n      <td>False</td>\n      <td>False</td>\n      <td>False</td>\n      <td>False</td>\n    </tr>\n    <tr>\n      <th>52697</th>\n      <td>img/WOMEN/Dresses/id_00007980/06_3_back.jpg</td>\n      <td>id_00007980</td>\n      <td>query</td>\n      <td>False</td>\n      <td>False</td>\n      <td>False</td>\n      <td>False</td>\n    </tr>\n    <tr>\n      <th>52698</th>\n      <td>img/WOMEN/Dresses/id_00007980/06_4_full.jpg</td>\n      <td>id_00007980</td>\n      <td>query</td>\n      <td>False</td>\n      <td>False</td>\n      <td>False</td>\n      <td>False</td>\n    </tr>\n    <tr>\n      <th>52699</th>\n      <td>img/WOMEN/Dresses/id_00007980/06_7_additional.jpg</td>\n      <td>id_00007980</td>\n      <td>query</td>\n      <td>False</td>\n      <td>False</td>\n      <td>False</td>\n      <td>False</td>\n    </tr>\n  </tbody>\n</table>\n<p>14212 rows × 7 columns</p>\n</div>"
     },
     "execution_count": 67,
     "metadata": {},
     "output_type": "execute_result"
    }
   ],
   "source": [
    "dataset[\"has_mask\"] = False\n",
    "for index, row in tqdm(dataset[dataset[\"is_included\"] == True].iterrows()):\n",
    "    hires_path = row[\"image_name\"].replace(\"img\", \"img_highres\")\n",
    "    hires_path_mask = row[\"image_name\"].replace(\"img\", \"img_highres\").replace(\".jpg\", \"_mask.png\")\n",
    "    mask_exists = os.path.exists(\"datasets/deep-fashion/In-shop Clothes Retrieval Benchmark/Img/\" + hires_path_mask)\n",
    "    dataset[\"has_mask\"][index] = mask_exists\n",
    "    if not mask_exists:\n",
    "        dataset[\"is_included\"][index] = False\n",
    "dataset"
   ],
   "metadata": {
    "collapsed": false,
    "ExecuteTime": {
     "end_time": "2023-10-07T12:37:16.497974789Z",
     "start_time": "2023-10-07T12:37:16.410775394Z"
    }
   },
   "id": "419715a913036b19"
  },
  {
   "cell_type": "markdown",
   "source": [
    "## Equalize the number of images for MEN and WOMAN images"
   ],
   "metadata": {
    "collapsed": false
   },
   "id": "9d323bf5f734865a"
  },
  {
   "cell_type": "code",
   "execution_count": 68,
   "outputs": [
    {
     "name": "stderr",
     "output_type": "stream",
     "text": [
      "14212it [00:01, 11653.28it/s]\n"
     ]
    }
   ],
   "source": [
    "import numpy as np\n",
    "\n",
    "dataset[\"is_man\"] = False\n",
    "for index, row in tqdm(dataset.iterrows()):\n",
    "    is_woman = \"WOMEN\" in row[\"image_name\"]\n",
    "    dataset[\"is_man\"][index] = not is_woman"
   ],
   "metadata": {
    "collapsed": false,
    "ExecuteTime": {
     "end_time": "2023-10-07T12:37:19.512894036Z",
     "start_time": "2023-10-07T12:37:18.258140393Z"
    }
   },
   "id": "70c8b667aaff5b6a"
  },
  {
   "cell_type": "markdown",
   "source": [
    "assuming there are less MEN images"
   ],
   "metadata": {
    "collapsed": false
   },
   "id": "db8ee60aa952621b"
  },
  {
   "cell_type": "code",
   "execution_count": 69,
   "outputs": [
    {
     "name": "stdout",
     "output_type": "stream",
     "text": [
      "MEN 263\n",
      "WOMEN 305\n"
     ]
    }
   ],
   "source": [
    "len_MEN = len(dataset[dataset[\"is_man\"] == True][dataset[\"is_included\"] == True])\n",
    "len_WOMEN = len(dataset[dataset[\"is_man\"] == False][dataset[\"is_included\"] == True])\n",
    "print(\"MEN\", len_MEN)\n",
    "print(\"WOMEN\", len_WOMEN)"
   ],
   "metadata": {
    "collapsed": false,
    "ExecuteTime": {
     "end_time": "2023-10-07T12:37:21.283465915Z",
     "start_time": "2023-10-07T12:37:21.280845546Z"
    }
   },
   "id": "7cac3e73eef44a57"
  },
  {
   "cell_type": "code",
   "execution_count": 70,
   "outputs": [
    {
     "name": "stderr",
     "output_type": "stream",
     "text": [
      "568it [00:00, 28969.15it/s]"
     ]
    },
    {
     "name": "stdout",
     "output_type": "stream",
     "text": [
      "MEN 263\n",
      "WOMEN 263\n"
     ]
    },
    {
     "name": "stderr",
     "output_type": "stream",
     "text": [
      "\n"
     ]
    }
   ],
   "source": [
    "amount_WOMAN_to_ignore = len_WOMEN - len_MEN\n",
    "for index, row in tqdm(dataset[dataset[\"is_included\"] == True].iterrows()):\n",
    "    if amount_WOMAN_to_ignore > 0 and not row[\"is_man\"]:\n",
    "        dataset[\"is_included\"][index] = False\n",
    "        amount_WOMAN_to_ignore -= 1\n",
    "len_MEN = len(dataset[dataset[\"is_man\"] == True][dataset[\"is_included\"] == True])\n",
    "len_WOMEN = len(dataset[dataset[\"is_man\"] == False][dataset[\"is_included\"] == True])\n",
    "print(\"MEN\", len_MEN)\n",
    "print(\"WOMEN\", len_WOMEN)"
   ],
   "metadata": {
    "collapsed": false,
    "ExecuteTime": {
     "end_time": "2023-10-07T12:37:22.820717954Z",
     "start_time": "2023-10-07T12:37:22.796063132Z"
    }
   },
   "id": "c386e911343d7ec8"
  },
  {
   "cell_type": "code",
   "execution_count": 71,
   "outputs": [
    {
     "name": "stdout",
     "output_type": "stream",
     "text": [
      "MEN 263\n",
      "WOMEN 263\n"
     ]
    }
   ],
   "source": [
    "len_MEN = len(dataset[dataset[\"is_man\"] == True][dataset[\"is_included\"] == True])\n",
    "len_WOMEN = len(dataset[dataset[\"is_man\"] == False][dataset[\"is_included\"] == True])\n",
    "print(\"MEN\", len_MEN)\n",
    "print(\"WOMEN\", len_WOMEN)"
   ],
   "metadata": {
    "collapsed": false,
    "ExecuteTime": {
     "end_time": "2023-10-07T12:37:25.342846444Z",
     "start_time": "2023-10-07T12:37:25.337656842Z"
    }
   },
   "id": "27e90f31ee556bf7"
  },
  {
   "cell_type": "code",
   "execution_count": 1,
   "outputs": [
    {
     "ename": "NameError",
     "evalue": "name 'pd' is not defined",
     "output_type": "error",
     "traceback": [
      "\u001B[0;31m---------------------------------------------------------------------------\u001B[0m",
      "\u001B[0;31mNameError\u001B[0m                                 Traceback (most recent call last)",
      "Cell \u001B[0;32mIn[1], line 1\u001B[0m\n\u001B[0;32m----> 1\u001B[0m test_dataset \u001B[38;5;241m=\u001B[39m \u001B[43mpd\u001B[49m\u001B[38;5;241m.\u001B[39mDataFrame()\n\u001B[1;32m      2\u001B[0m test_dataset[\u001B[38;5;124m\"\u001B[39m\u001B[38;5;124mimage_name\u001B[39m\u001B[38;5;124m\"\u001B[39m] \u001B[38;5;241m=\u001B[39m dataset[dataset[\u001B[38;5;124m\"\u001B[39m\u001B[38;5;124mis_included\u001B[39m\u001B[38;5;124m\"\u001B[39m] \u001B[38;5;241m==\u001B[39m \u001B[38;5;28;01mTrue\u001B[39;00m][\u001B[38;5;124m\"\u001B[39m\u001B[38;5;124mimage_name\u001B[39m\u001B[38;5;124m\"\u001B[39m]\n\u001B[1;32m      3\u001B[0m test_dataset[\u001B[38;5;124m\"\u001B[39m\u001B[38;5;124mimage_name\u001B[39m\u001B[38;5;124m\"\u001B[39m] \u001B[38;5;241m=\u001B[39m test_dataset[\u001B[38;5;124m\"\u001B[39m\u001B[38;5;124mimage_name\u001B[39m\u001B[38;5;124m\"\u001B[39m]\u001B[38;5;241m.\u001B[39mtransform(\u001B[38;5;28;01mlambda\u001B[39;00m name: name\u001B[38;5;241m.\u001B[39mreplace(\u001B[38;5;124m\"\u001B[39m\u001B[38;5;124mimg\u001B[39m\u001B[38;5;124m\"\u001B[39m, \u001B[38;5;124m\"\u001B[39m\u001B[38;5;124mimg_highres\u001B[39m\u001B[38;5;124m\"\u001B[39m))\n",
      "\u001B[0;31mNameError\u001B[0m: name 'pd' is not defined"
     ]
    }
   ],
   "source": [
    "test_dataset = pd.DataFrame()\n",
    "test_dataset[\"image_name\"] = dataset[dataset[\"is_included\"] == True][\"image_name\"]\n",
    "test_dataset[\"image_name\"] = test_dataset[\"image_name\"].transform(lambda name: name.replace(\"img\", \"img_highres\"))\n",
    "test_dataset = test_dataset.reset_index(drop=True)\n",
    "test_dataset"
   ],
   "metadata": {
    "collapsed": false,
    "ExecuteTime": {
     "end_time": "2023-10-11T19:03:03.238632779Z",
     "start_time": "2023-10-11T19:03:03.156862273Z"
    }
   },
   "id": "6e30e743de3a96c1"
  },
  {
   "cell_type": "markdown",
   "source": [
    "## Save new test dataset"
   ],
   "metadata": {
    "collapsed": false
   },
   "id": "171d3f81e03367bc"
  },
  {
   "cell_type": "code",
   "execution_count": 73,
   "outputs": [
    {
     "data": {
      "text/plain": "                                            image_name\n0    img_highres/MEN/Jackets_Vests/id_00000084/08_1...\n1    img_highres/MEN/Jackets_Vests/id_00000094/01_1...\n2    img_highres/MEN/Jackets_Vests/id_00000094/04_1...\n3    img_highres/MEN/Sweaters/id_00000145/01_1_fron...\n4    img_highres/MEN/Shirts_Polos/id_00000193/04_1_...\n..                                                 ...\n521  img_highres/WOMEN/Tees_Tanks/id_00007962/07_1_...\n522  img_highres/WOMEN/Tees_Tanks/id_00007962/07_2_...\n523  img_highres/MEN/Tees_Tanks/id_00007967/02_2_si...\n524  img_highres/WOMEN/Tees_Tanks/id_00007969/03_1_...\n525  img_highres/WOMEN/Tees_Tanks/id_00007969/04_2_...\n\n[526 rows x 1 columns]",
      "text/html": "<div>\n<style scoped>\n    .dataframe tbody tr th:only-of-type {\n        vertical-align: middle;\n    }\n\n    .dataframe tbody tr th {\n        vertical-align: top;\n    }\n\n    .dataframe thead th {\n        text-align: right;\n    }\n</style>\n<table border=\"1\" class=\"dataframe\">\n  <thead>\n    <tr style=\"text-align: right;\">\n      <th></th>\n      <th>image_name</th>\n    </tr>\n  </thead>\n  <tbody>\n    <tr>\n      <th>0</th>\n      <td>img_highres/MEN/Jackets_Vests/id_00000084/08_1...</td>\n    </tr>\n    <tr>\n      <th>1</th>\n      <td>img_highres/MEN/Jackets_Vests/id_00000094/01_1...</td>\n    </tr>\n    <tr>\n      <th>2</th>\n      <td>img_highres/MEN/Jackets_Vests/id_00000094/04_1...</td>\n    </tr>\n    <tr>\n      <th>3</th>\n      <td>img_highres/MEN/Sweaters/id_00000145/01_1_fron...</td>\n    </tr>\n    <tr>\n      <th>4</th>\n      <td>img_highres/MEN/Shirts_Polos/id_00000193/04_1_...</td>\n    </tr>\n    <tr>\n      <th>...</th>\n      <td>...</td>\n    </tr>\n    <tr>\n      <th>521</th>\n      <td>img_highres/WOMEN/Tees_Tanks/id_00007962/07_1_...</td>\n    </tr>\n    <tr>\n      <th>522</th>\n      <td>img_highres/WOMEN/Tees_Tanks/id_00007962/07_2_...</td>\n    </tr>\n    <tr>\n      <th>523</th>\n      <td>img_highres/MEN/Tees_Tanks/id_00007967/02_2_si...</td>\n    </tr>\n    <tr>\n      <th>524</th>\n      <td>img_highres/WOMEN/Tees_Tanks/id_00007969/03_1_...</td>\n    </tr>\n    <tr>\n      <th>525</th>\n      <td>img_highres/WOMEN/Tees_Tanks/id_00007969/04_2_...</td>\n    </tr>\n  </tbody>\n</table>\n<p>526 rows × 1 columns</p>\n</div>"
     },
     "execution_count": 73,
     "metadata": {},
     "output_type": "execute_result"
    }
   ],
   "source": [
    "test_dataset.to_csv(\"datasets/query_list.csv\")\n",
    "test_dataset"
   ],
   "metadata": {
    "collapsed": false,
    "ExecuteTime": {
     "end_time": "2023-10-07T12:37:29.509062455Z",
     "start_time": "2023-10-07T12:37:29.503849350Z"
    }
   },
   "id": "14b4314ed9b59e6e"
  }
 ],
 "metadata": {
  "kernelspec": {
   "display_name": "Python 3",
   "language": "python",
   "name": "python3"
  },
  "language_info": {
   "codemirror_mode": {
    "name": "ipython",
    "version": 2
   },
   "file_extension": ".py",
   "mimetype": "text/x-python",
   "name": "python",
   "nbconvert_exporter": "python",
   "pygments_lexer": "ipython2",
   "version": "2.7.6"
  }
 },
 "nbformat": 4,
 "nbformat_minor": 5
}
