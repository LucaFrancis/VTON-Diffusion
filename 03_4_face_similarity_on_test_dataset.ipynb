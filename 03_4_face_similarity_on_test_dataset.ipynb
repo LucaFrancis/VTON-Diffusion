{
 "cells": [
  {
   "cell_type": "markdown",
   "source": [
    "Use the \"transform_all_images_of_test_dataset.py\" script inside ComfyUI to generate images for the test dataset"
   ],
   "metadata": {
    "collapsed": false
   },
   "id": "30064913622d3421"
  },
  {
   "cell_type": "code",
   "execution_count": 6,
   "id": "initial_id",
   "metadata": {
    "collapsed": true,
    "ExecuteTime": {
     "end_time": "2023-10-12T13:08:43.334231852Z",
     "start_time": "2023-10-12T13:00:58.827401641Z"
    }
   },
   "outputs": [
    {
     "name": "stderr",
     "output_type": "stream",
     "text": [
      "100%|██████████| 416/416 [07:44<00:00,  1.12s/it]\n"
     ]
    }
   ],
   "source": [
    "import pandas as pd\n",
    "import os\n",
    "from tqdm import tqdm\n",
    "from deepface import DeepFace\n",
    "\n",
    "embedding_name = \"christphgrmmr\"\n",
    "df = pd.read_csv(\"datasets/query_list.csv\")\n",
    "dataset_folder = \"embedding_datasets/\" + embedding_name + \"/img/processed\"\n",
    "transformed_images_folder = \"embedding_datasets/\" + embedding_name + \"/results/transform-all/\"\n",
    "dataset_images_paths = []\n",
    "for root, _, files in os.walk(dataset_folder):\n",
    "    for f in files:\n",
    "        if f.lower().endswith('.png'):\n",
    "            dataset_images_paths.append(os.path.join(root, f))\n",
    "\n",
    "with open(transformed_images_folder + \"transform_all.csv\", \"w\") as csv:\n",
    "    for path in tqdm(df[\"image_name\"]):\n",
    "        transformed_image_path = transformed_images_folder + path + \"_00001_.png\"\n",
    "        avg = 0.0\n",
    "        not_detected_count = 0\n",
    "        for dataset_images_path in dataset_images_paths:\n",
    "            result = DeepFace.verify(img1_path=transformed_image_path, img2_path=dataset_images_path,\n",
    "                                     enforce_detection=False)\n",
    "            if \"distance\" not in result.keys():\n",
    "                not_detected_count += 1\n",
    "            else:\n",
    "                avg += result['distance']\n",
    "        avg = avg / len(dataset_images_paths)\n",
    "        csv.write(transformed_image_path + \",\" + str(avg) + \",\" + str(not_detected_count) + \"\\n\", )"
   ]
  }
 ],
 "metadata": {
  "kernelspec": {
   "display_name": "Python 3",
   "language": "python",
   "name": "python3"
  },
  "language_info": {
   "codemirror_mode": {
    "name": "ipython",
    "version": 2
   },
   "file_extension": ".py",
   "mimetype": "text/x-python",
   "name": "python",
   "nbconvert_exporter": "python",
   "pygments_lexer": "ipython2",
   "version": "2.7.6"
  }
 },
 "nbformat": 4,
 "nbformat_minor": 5
}
