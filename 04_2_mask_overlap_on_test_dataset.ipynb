{
 "cells": [
  {
   "cell_type": "markdown",
   "source": [
    "Use the \"transform_all_images_of_test_dataset.py\" script inside ComfyUI to generate images for the test dataset"
   ],
   "metadata": {
    "collapsed": false
   },
   "id": "30064913622d3421"
  },
  {
   "cell_type": "code",
   "execution_count": 22,
   "id": "initial_id",
   "metadata": {
    "collapsed": true,
    "ExecuteTime": {
     "end_time": "2023-10-12T15:31:25.359019208Z",
     "start_time": "2023-10-12T15:31:14.748365592Z"
    }
   },
   "outputs": [
    {
     "name": "stderr",
     "output_type": "stream",
     "text": [
      "100%|██████████| 416/416 [00:10<00:00, 39.27it/s]\n"
     ]
    }
   ],
   "source": [
    "import PIL.ImageOps\n",
    "import numpy as np\n",
    "import pandas as pd\n",
    "from tqdm import tqdm\n",
    "from PIL import Image\n",
    "from PIL import ImageChops\n",
    "embedding_name = (\"fabhsr\")\n",
    "\n",
    "transformed_images_folder = \"embedding_datasets/\" + embedding_name + \"/results/transform-all/\"\n",
    "dataset_folder = \"datasets/deep-fashion/In-shop Clothes Retrieval Benchmark/Img/\"\n",
    "df = pd.read_csv(\"datasets/query_list.csv\")\n",
    "\n",
    "\n",
    "def grand_sum(image: Image):\n",
    "    return np.sum(np.array(image) == True)\n",
    "\n",
    "with open(transformed_images_folder + \"/mask_overlap.csv\", \"w\") as csv:\n",
    "    for image_path in tqdm(df[\"image_name\"]):\n",
    "        mask_path = (\".\".join(image_path.split(\".\")[:-1])) + \"_mask_sam.png\"\n",
    "        gt_mask_path = (\".\".join(image_path.split(\".\")[:-1])) + \"_mask.png\"\n",
    "\n",
    "        M_transformed_path = transformed_images_folder + mask_path\n",
    "        M_groundtruth_path = dataset_folder + gt_mask_path\n",
    "        M_original_path = dataset_folder + mask_path\n",
    "\n",
    "        M_groundtruth = Image.open(M_groundtruth_path).convert(\"1\")\n",
    "        M_transformed = PIL.ImageOps.invert(Image.open(M_transformed_path).convert(\"1\"))\n",
    "        M_original = PIL.ImageOps.invert(Image.open(M_original_path).convert(\"1\"))\n",
    "\n",
    "        # due to vae encoding image dimensions are rounded to be divisible by 8\n",
    "        # possibly introduces some pixel shift worsening this metric by a very small percentage\n",
    "        M_transformed = M_transformed.resize(M_original.size)\n",
    "\n",
    "        M_original_filled =  ImageChops.logical_or(M_original,M_groundtruth)\n",
    "        M_transformed_filled = ImageChops.logical_or(M_transformed,M_groundtruth)\n",
    "\n",
    "        M_overlap =  ImageChops.subtract(M_transformed_filled,M_original_filled)\n",
    "        percentage_overlap = grand_sum(M_overlap) / grand_sum(M_original_filled)\n",
    "        csv.write(image_path + \",\" + str(percentage_overlap) + \"\\n\")"
   ]
  }
 ],
 "metadata": {
  "kernelspec": {
   "display_name": "Python 3",
   "language": "python",
   "name": "python3"
  },
  "language_info": {
   "codemirror_mode": {
    "name": "ipython",
    "version": 2
   },
   "file_extension": ".py",
   "mimetype": "text/x-python",
   "name": "python",
   "nbconvert_exporter": "python",
   "pygments_lexer": "ipython2",
   "version": "2.7.6"
  }
 },
 "nbformat": 4,
 "nbformat_minor": 5
}
