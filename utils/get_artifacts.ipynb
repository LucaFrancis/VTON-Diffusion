{
 "cells": [
  {
   "cell_type": "code",
   "execution_count": null,
   "id": "initial_id",
   "metadata": {
    "collapsed": true
   },
   "outputs": [],
   "source": []
  },
  {
   "cell_type": "code",
   "execution_count": 3,
   "outputs": [
    {
     "data": {
      "text/plain": "    embedding_datasets/lucfrncs/results/transform-all/img_highres/MEN/Tees_Tanks/id_00000822/01_1_front.jpg_00001_.png  \\\n0    embedding_datasets/lucfrncs/results/transform-...                                                                   \n1    embedding_datasets/lucfrncs/results/transform-...                                                                   \n2    embedding_datasets/lucfrncs/results/transform-...                                                                   \n3    embedding_datasets/lucfrncs/results/transform-...                                                                   \n4    embedding_datasets/lucfrncs/results/transform-...                                                                   \n..                                                 ...                                                                   \n410  embedding_datasets/lucfrncs/results/transform-...                                                                   \n411  embedding_datasets/lucfrncs/results/transform-...                                                                   \n412  embedding_datasets/lucfrncs/results/transform-...                                                                   \n413  embedding_datasets/lucfrncs/results/transform-...                                                                   \n414  embedding_datasets/lucfrncs/results/transform-...                                                                   \n\n     0.3954417830643293  0  \n0              0.280711  0  \n1              0.458102  0  \n2              0.401183  0  \n3              0.408012  0  \n4              0.389156  0  \n..                  ... ..  \n410            0.442193  0  \n411            0.573635  0  \n412            0.421985  0  \n413            0.425241  0  \n414            0.424424  0  \n\n[415 rows x 3 columns]",
      "text/html": "<div>\n<style scoped>\n    .dataframe tbody tr th:only-of-type {\n        vertical-align: middle;\n    }\n\n    .dataframe tbody tr th {\n        vertical-align: top;\n    }\n\n    .dataframe thead th {\n        text-align: right;\n    }\n</style>\n<table border=\"1\" class=\"dataframe\">\n  <thead>\n    <tr style=\"text-align: right;\">\n      <th></th>\n      <th>embedding_datasets/lucfrncs/results/transform-all/img_highres/MEN/Tees_Tanks/id_00000822/01_1_front.jpg_00001_.png</th>\n      <th>0.3954417830643293</th>\n      <th>0</th>\n    </tr>\n  </thead>\n  <tbody>\n    <tr>\n      <th>0</th>\n      <td>embedding_datasets/lucfrncs/results/transform-...</td>\n      <td>0.280711</td>\n      <td>0</td>\n    </tr>\n    <tr>\n      <th>1</th>\n      <td>embedding_datasets/lucfrncs/results/transform-...</td>\n      <td>0.458102</td>\n      <td>0</td>\n    </tr>\n    <tr>\n      <th>2</th>\n      <td>embedding_datasets/lucfrncs/results/transform-...</td>\n      <td>0.401183</td>\n      <td>0</td>\n    </tr>\n    <tr>\n      <th>3</th>\n      <td>embedding_datasets/lucfrncs/results/transform-...</td>\n      <td>0.408012</td>\n      <td>0</td>\n    </tr>\n    <tr>\n      <th>4</th>\n      <td>embedding_datasets/lucfrncs/results/transform-...</td>\n      <td>0.389156</td>\n      <td>0</td>\n    </tr>\n    <tr>\n      <th>...</th>\n      <td>...</td>\n      <td>...</td>\n      <td>...</td>\n    </tr>\n    <tr>\n      <th>410</th>\n      <td>embedding_datasets/lucfrncs/results/transform-...</td>\n      <td>0.442193</td>\n      <td>0</td>\n    </tr>\n    <tr>\n      <th>411</th>\n      <td>embedding_datasets/lucfrncs/results/transform-...</td>\n      <td>0.573635</td>\n      <td>0</td>\n    </tr>\n    <tr>\n      <th>412</th>\n      <td>embedding_datasets/lucfrncs/results/transform-...</td>\n      <td>0.421985</td>\n      <td>0</td>\n    </tr>\n    <tr>\n      <th>413</th>\n      <td>embedding_datasets/lucfrncs/results/transform-...</td>\n      <td>0.425241</td>\n      <td>0</td>\n    </tr>\n    <tr>\n      <th>414</th>\n      <td>embedding_datasets/lucfrncs/results/transform-...</td>\n      <td>0.424424</td>\n      <td>0</td>\n    </tr>\n  </tbody>\n</table>\n<p>415 rows × 3 columns</p>\n</div>"
     },
     "execution_count": 3,
     "metadata": {},
     "output_type": "execute_result"
    }
   ],
   "source": [
    "import pandas as pd\n",
    "\n",
    "df = pd.read_csv(\"../embedding_datasets/lucfrncs/results/transform-all/transform_all.csv\")\n",
    "df"
   ],
   "metadata": {
    "collapsed": false,
    "ExecuteTime": {
     "end_time": "2023-10-21T14:33:14.294371022Z",
     "start_time": "2023-10-21T14:33:14.283143217Z"
    }
   },
   "id": "dd834b737efad61f"
  }
 ],
 "metadata": {
  "kernelspec": {
   "display_name": "Python 3",
   "language": "python",
   "name": "python3"
  },
  "language_info": {
   "codemirror_mode": {
    "name": "ipython",
    "version": 2
   },
   "file_extension": ".py",
   "mimetype": "text/x-python",
   "name": "python",
   "nbconvert_exporter": "python",
   "pygments_lexer": "ipython2",
   "version": "2.7.6"
  }
 },
 "nbformat": 4,
 "nbformat_minor": 5
}
