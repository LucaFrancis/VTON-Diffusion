{
 "cells": [
  {
   "cell_type": "code",
   "execution_count": 2,
   "id": "initial_id",
   "metadata": {
    "collapsed": true,
    "ExecuteTime": {
     "end_time": "2023-10-07T09:37:19.056606680Z",
     "start_time": "2023-10-07T09:37:19.048768858Z"
    }
   },
   "outputs": [
    {
     "data": {
      "text/plain": "    datasets/deep-fashion-test/img_highres/MEN/Sweaters/id_00000016/01_2_side_fabhsr-step00002500.png_00001_.png   \n0    datasets/deep-fashion-test/img_highres/MEN/Swe...                                                            \\\n1    datasets/deep-fashion-test/img_highres/MEN/Swe...                                                             \n2    datasets/deep-fashion-test/img_highres/MEN/Swe...                                                             \n3    datasets/deep-fashion-test/img_highres/MEN/Swe...                                                             \n4    datasets/deep-fashion-test/img_highres/MEN/Swe...                                                             \n..                                                 ...                                                             \n349  datasets/deep-fashion-test/img_highres/MEN/Shi...                                                             \n350  datasets/deep-fashion-test/img_highres/MEN/Shi...                                                             \n351  datasets/deep-fashion-test/img_highres/MEN/Shi...                                                             \n352  datasets/deep-fashion-test/img_highres/MEN/Shi...                                                             \n353  datasets/deep-fashion-test/img_highres/MEN/Shi...                                                             \n\n     0.2740649244489425  0  \n0              0.285267  0  \n1              0.239250  0  \n2              0.520712  0  \n3              0.211815  0  \n4              0.204488  0  \n..                  ... ..  \n349            0.237956  0  \n350            0.261051  0  \n351            0.455285  0  \n352            0.237891  0  \n353            0.508782  0  \n\n[354 rows x 3 columns]",
      "text/html": "<div>\n<style scoped>\n    .dataframe tbody tr th:only-of-type {\n        vertical-align: middle;\n    }\n\n    .dataframe tbody tr th {\n        vertical-align: top;\n    }\n\n    .dataframe thead th {\n        text-align: right;\n    }\n</style>\n<table border=\"1\" class=\"dataframe\">\n  <thead>\n    <tr style=\"text-align: right;\">\n      <th></th>\n      <th>datasets/deep-fashion-test/img_highres/MEN/Sweaters/id_00000016/01_2_side_fabhsr-step00002500.png_00001_.png</th>\n      <th>0.2740649244489425</th>\n      <th>0</th>\n    </tr>\n  </thead>\n  <tbody>\n    <tr>\n      <th>0</th>\n      <td>datasets/deep-fashion-test/img_highres/MEN/Swe...</td>\n      <td>0.285267</td>\n      <td>0</td>\n    </tr>\n    <tr>\n      <th>1</th>\n      <td>datasets/deep-fashion-test/img_highres/MEN/Swe...</td>\n      <td>0.239250</td>\n      <td>0</td>\n    </tr>\n    <tr>\n      <th>2</th>\n      <td>datasets/deep-fashion-test/img_highres/MEN/Swe...</td>\n      <td>0.520712</td>\n      <td>0</td>\n    </tr>\n    <tr>\n      <th>3</th>\n      <td>datasets/deep-fashion-test/img_highres/MEN/Swe...</td>\n      <td>0.211815</td>\n      <td>0</td>\n    </tr>\n    <tr>\n      <th>4</th>\n      <td>datasets/deep-fashion-test/img_highres/MEN/Swe...</td>\n      <td>0.204488</td>\n      <td>0</td>\n    </tr>\n    <tr>\n      <th>...</th>\n      <td>...</td>\n      <td>...</td>\n      <td>...</td>\n    </tr>\n    <tr>\n      <th>349</th>\n      <td>datasets/deep-fashion-test/img_highres/MEN/Shi...</td>\n      <td>0.237956</td>\n      <td>0</td>\n    </tr>\n    <tr>\n      <th>350</th>\n      <td>datasets/deep-fashion-test/img_highres/MEN/Shi...</td>\n      <td>0.261051</td>\n      <td>0</td>\n    </tr>\n    <tr>\n      <th>351</th>\n      <td>datasets/deep-fashion-test/img_highres/MEN/Shi...</td>\n      <td>0.455285</td>\n      <td>0</td>\n    </tr>\n    <tr>\n      <th>352</th>\n      <td>datasets/deep-fashion-test/img_highres/MEN/Shi...</td>\n      <td>0.237891</td>\n      <td>0</td>\n    </tr>\n    <tr>\n      <th>353</th>\n      <td>datasets/deep-fashion-test/img_highres/MEN/Shi...</td>\n      <td>0.508782</td>\n      <td>0</td>\n    </tr>\n  </tbody>\n</table>\n<p>354 rows × 3 columns</p>\n</div>"
     },
     "execution_count": 2,
     "metadata": {},
     "output_type": "execute_result"
    }
   ],
   "source": [
    "import os\n",
    "\n",
    "from tqdm import tqdm\n",
    "import pandas as pd\n",
    "\n",
    "\n",
    "df = pd.read_csv(\"../datasets/deep-fashion-test/img_highres/MEN/fabhsr_face_similarity.csv\")\n",
    "df"
   ]
  }
 ],
 "metadata": {
  "kernelspec": {
   "display_name": "Python 3",
   "language": "python",
   "name": "python3"
  },
  "language_info": {
   "codemirror_mode": {
    "name": "ipython",
    "version": 2
   },
   "file_extension": ".py",
   "mimetype": "text/x-python",
   "name": "python",
   "nbconvert_exporter": "python",
   "pygments_lexer": "ipython2",
   "version": "2.7.6"
  }
 },
 "nbformat": 4,
 "nbformat_minor": 5
}
