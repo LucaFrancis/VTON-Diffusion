{
 "cells": [
  {
   "cell_type": "code",
   "execution_count": 2,
   "metadata": {
    "collapsed": true,
    "ExecuteTime": {
     "end_time": "2023-10-07T13:57:42.956451248Z",
     "start_time": "2023-10-07T13:57:42.586267285Z"
    }
   },
   "outputs": [],
   "source": [
    "import os\n",
    "\n",
    "import pandas as pd\n",
    "from PIL import Image\n",
    "import numpy as np\n",
    "from matplotlib.image import imread\n",
    "import matplotlib.pyplot as plt\n",
    "from tqdm import tqdm\n"
   ]
  },
  {
   "cell_type": "code",
   "execution_count": 3,
   "outputs": [],
   "source": [
    "segmentation_colors = {\n",
    "    \"background\": [0, 0, 0, 255],\n",
    "    \"pants\": [211, 211, 211, 255],\n",
    "    \"alt_belt\": [0, 100, 0, 255],\n",
    "    \"face\": [16, 78, 139, 255],\n",
    "    \"alt_dress\": [16, 78, 139, 255],\n",
    "    \"bag\": [50, 205, 50, 255],\n",
    "    \"leggings\": [70, 130, 180, 255],\n",
    "    \"hat\": [127, 255, 212, 255],\n",
    "    \"alt_eyeglass\": [127, 255, 212, 255],\n",
    "    \"hands_and_neck\": [144, 238, 144, 255],\n",
    "    \"alt_skin\": [144, 238, 144, 255],\n",
    "    \"alt_hair\": [211, 211, 211, 255],\n",
    "    \"neckwear\": [220, 220, 220, 255],\n",
    "    \"pullover\": [220, 220, 220, 255],\n",
    "    \"shoes\": [245, 222, 179, 255],\n",
    "    \"alt_face\": [245, 222, 179, 255],\n",
    "    \"skirt\": [250, 235, 215, 255],\n",
    "    \"hair\": [255, 0, 0, 255],\n",
    "    \"alt_headwear\": [255, 0, 0, 255],\n",
    "    \"alt_pants\": [255, 140, 0, 255],\n",
    "    \"dress\": [255, 250, 205, 255],\n",
    "    \"alt_outer\": [255, 250, 205, 255],\n",
    "    \"top\": [255, 250, 250, 255],\n",
    "    \"alt_footwear\": [255, 255, 0, 255],\n",
    "}\n",
    "\n",
    "clothes_colors = np.array([segmentation_colors['pants'], segmentation_colors[\"pullover\"], segmentation_colors[\"top\"], segmentation_colors[\"shoes\"], segmentation_colors[\"dress\"]])"
   ],
   "metadata": {
    "collapsed": false,
    "ExecuteTime": {
     "end_time": "2023-10-07T13:57:44.128423076Z",
     "start_time": "2023-10-07T13:57:44.126792525Z"
    }
   }
  },
  {
   "cell_type": "code",
   "execution_count": 5,
   "outputs": [
    {
     "name": "stderr",
     "output_type": "stream",
     "text": [
      "100%|██████████| 526/526 [00:31<00:00, 16.82it/s]\n"
     ]
    }
   ],
   "source": [
    "df = pd.read_csv(\"datasets/query_list.csv\")\n",
    "dataset_path = \"/home/luca/virtual-tryon-diffusion/datasets/deep-fashion/In-shop Clothes Retrieval Benchmark/Img/\"\n",
    "\n",
    "for path in tqdm(df[\"image_name\"]):\n",
    "    segment_path = path.replace('.jpg', '_segment.png')\n",
    "    if not os.path.exists(dataset_path+segment_path):\n",
    "        continue\n",
    "    segmentation = np.asarray(Image.open(dataset_path+segment_path))\n",
    "    condensed_mask = np.zeros((segmentation.shape[0], segmentation.shape[1]), dtype=bool)\n",
    "    for c in clothes_colors:\n",
    "        condensed_mask = np.logical_or(condensed_mask, np.all(segmentation == c, axis=-1))\n",
    "    condensed_mask = condensed_mask * 255\n",
    "    Image.fromarray(condensed_mask.astype('uint8')).save(dataset_path+path.replace('.jpg', '_mask.png'))"
   ],
   "metadata": {
    "collapsed": false,
    "ExecuteTime": {
     "end_time": "2023-10-07T13:58:44.481306811Z",
     "start_time": "2023-10-07T13:58:13.166572826Z"
    }
   }
  }
 ],
 "metadata": {
  "kernelspec": {
   "display_name": "Python 3",
   "language": "python",
   "name": "python3"
  },
  "language_info": {
   "codemirror_mode": {
    "name": "ipython",
    "version": 2
   },
   "file_extension": ".py",
   "mimetype": "text/x-python",
   "name": "python",
   "nbconvert_exporter": "python",
   "pygments_lexer": "ipython2",
   "version": "2.7.6"
  }
 },
 "nbformat": 4,
 "nbformat_minor": 0
}
