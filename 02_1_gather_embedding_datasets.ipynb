{
 "cells": [
  {
   "cell_type": "markdown",
   "source": [
    "Follow instructions below to create a new embedding dataset"
   ],
   "metadata": {
    "collapsed": false
   },
   "id": "93234ce2ffec0de3"
  },
  {
   "cell_type": "markdown",
   "source": [
    "Assuming you gathered images based on the provided manual.pdf, copy the \"embedding_datasets/example_embedding_name\" folder.\n",
    "1. Add images to the img folder"
   ],
   "metadata": {
    "collapsed": false
   },
   "id": "f1198a945b29f465"
  },
  {
   "cell_type": "markdown",
   "source": [
    "2. use [automatic1111](https://github.com/AUTOMATIC1111/stable-diffusion-webui) webui to preprocess images, under \"train\" tab use \"preprocess images\"\n",
    "3. source directory \"embedding_datasets/example_embedding_name/img\"\n",
    "4. destination directory \"embedding_datasets/example_embedding_name/img/processed\"\n",
    "5. width/height 1024\n",
    "6. Check \"Use BLIP for caption\" and \"Auto focal point crop\""
   ],
   "metadata": {
    "collapsed": false
   },
   "id": "ccaf71e3fe728c35"
  },
  {
   "cell_type": "markdown",
   "source": [
    "Add \"example_embedding_name, \" to the start of the text captions, edit all \".txt\" files in the processed folder"
   ],
   "metadata": {
    "collapsed": false
   },
   "id": "7001dbc2acd120bf"
  },
  {
   "cell_type": "markdown",
   "source": [
    "Run the command from the \"command\" file inside the [kohya-ss scripts](https://github.com/kohya-ss/sd-scripts) folder to train the embedding"
   ],
   "metadata": {
    "collapsed": false
   },
   "id": "b774a5e73b808019"
  }
 ],
 "metadata": {
  "kernelspec": {
   "display_name": "Python 3",
   "language": "python",
   "name": "python3"
  },
  "language_info": {
   "codemirror_mode": {
    "name": "ipython",
    "version": 2
   },
   "file_extension": ".py",
   "mimetype": "text/x-python",
   "name": "python",
   "nbconvert_exporter": "python",
   "pygments_lexer": "ipython2",
   "version": "2.7.6"
  }
 },
 "nbformat": 4,
 "nbformat_minor": 5
}
