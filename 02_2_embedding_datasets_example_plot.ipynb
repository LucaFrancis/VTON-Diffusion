{
 "cells": [
  {
   "cell_type": "markdown",
   "source": [],
   "metadata": {
    "collapsed": false
   },
   "id": "9b9bdb670c09a3b2"
  },
  {
   "cell_type": "code",
   "execution_count": 11,
   "outputs": [
    {
     "data": {
      "text/plain": "<Figure size 200x800 with 8 Axes>",
      "image/png": "[encoded data removed]"
     },
     "metadata": {},
     "output_type": "display_data"
    }
   ],
   "source": [
    "from mpl_toolkits.axes_grid1 import ImageGrid\n",
    "from matplotlib import pyplot as plt\n",
    "\n",
    "embedding_A = plt.imread('embedding_datasets/lucfrncs/img/processed/00016-0-6.png')\n",
    "embedding_B = plt.imread('embedding_datasets/frankfrschlng/img/processed/00003-0-10.png')\n",
    "embedding_C = plt.imread('embedding_datasets/fabhsr/img/processed/00008-0-IMG_4117.png')\n",
    "embedding_D = plt.imread('embedding_datasets/christphgrmmr/img/processed/00000-0-PXL_20230920_124959864.png')\n",
    "fig = plt.figure(figsize=(2., 8.))\n",
    "grid = ImageGrid(fig, 111, nrows_ncols=(1, 4), axes_pad=0.1, )\n",
    "left, width = .25, .5\n",
    "bottom, height = .25, .5\n",
    "right = left + width\n",
    "top = bottom + height\n",
    "for ax, im in zip(grid,\n",
    "                  [embedding_A, embedding_B, embedding_C, embedding_D,\n",
    "                   ]):\n",
    "    # Iterating over the grid returns the Axes.\n",
    "    if im is not None:\n",
    "        ax.imshow(im)\n",
    "    ax.axis(\"off\")\n",
    "grid[0].text(0.5 * (left + right), -0.15, 'A',\n",
    "             horizontalalignment='center',\n",
    "             verticalalignment='center',\n",
    "             transform=grid[0].transAxes,\n",
    "             size=5.)\n",
    "grid[1].text(0.5 * (left + right), -0.15, 'B',\n",
    "             horizontalalignment='center',\n",
    "             verticalalignment='center',\n",
    "             transform=grid[1].transAxes,\n",
    "             size=5.)\n",
    "grid[2].text(0.5 * (left + right), -0.15, 'C',\n",
    "             horizontalalignment='center',\n",
    "             verticalalignment='center',\n",
    "             transform=grid[2].transAxes,\n",
    "             size=5.)\n",
    "grid[3].text(0.5 * (left + right), -0.15, 'D',\n",
    "             horizontalalignment='center',\n",
    "             verticalalignment='center',\n",
    "             transform=grid[3].transAxes,\n",
    "             size=5.)\n",
    "# Display the figure\n",
    "plt.savefig('plots/embedding_datasets_examples.png', format='png', dpi=1000, bbox_inches='tight')\n",
    "plt.show()"
   ],
   "metadata": {
    "collapsed": false,
    "ExecuteTime": {
     "end_time": "2023-10-18T15:24:44.744806357Z",
     "start_time": "2023-10-18T15:24:44.101873200Z"
    }
   },
   "id": "dac8f57ebc63b775"
  }
 ],
 "metadata": {
  "kernelspec": {
   "display_name": "Python 3",
   "language": "python",
   "name": "python3"
  },
  "language_info": {
   "codemirror_mode": {
    "name": "ipython",
    "version": 2
   },
   "file_extension": ".py",
   "mimetype": "text/x-python",
   "name": "python",
   "nbconvert_exporter": "python",
   "pygments_lexer": "ipython2",
   "version": "2.7.6"
  }
 },
 "nbformat": 4,
 "nbformat_minor": 5
}
