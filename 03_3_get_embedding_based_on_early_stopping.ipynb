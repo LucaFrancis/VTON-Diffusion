{
 "cells": [
  {
   "cell_type": "code",
   "execution_count": 13,
   "id": "initial_id",
   "metadata": {
    "collapsed": true,
    "ExecuteTime": {
     "end_time": "2023-10-10T18:17:04.124313305Z",
     "start_time": "2023-10-10T18:17:04.081670225Z"
    }
   },
   "outputs": [
    {
     "data": {
      "text/plain": "       0         1    2\n0     50  0.627323  0.0\n1    100  0.667447  0.0\n2    150  0.679127  0.0\n3    200  0.586238  0.0\n4    250  0.597216  0.0\n5    300  0.520660  0.0\n6    350  0.498443  0.0\n7    400  0.516702  0.0\n8    450  0.490989  0.0\n9    500  0.506362  0.0\n10   550  0.511340  0.0\n11   600  0.439592  0.0\n12   650  0.471234  0.0\n13   700  0.535457  0.0\n14   750  0.505346  0.0\n15   800  0.514738  0.0\n16   850  0.503424  0.0\n17   900  0.492944  0.0\n18   950  0.508385  0.0\n19  1000  0.505052  0.0\n20  1050  0.484398  0.0\n21  1100  0.498968  0.0\n22  1150  0.521870  0.0\n23  1200  0.486381  0.0\n24  1250  0.531146  0.0\n25  1300  0.503957  0.0\n26  1350  0.529398  0.0\n27  1400  0.484261  0.0\n28  1450  0.487099  0.0\n29  1500  0.481455  0.0\n30  1550  0.493554  0.0\n31  1600  0.498325  0.0\n32  1650  0.471726  0.0\n33  1700  0.464198  0.0\n34  1750  0.494644  0.0\n35  1800  0.467529  0.0\n36  1850  0.504703  0.0\n37  1900  0.500284  0.0\n38  1950  0.498396  0.0\n39  2000  0.485066  0.0\n40  2050  0.472921  0.0\n41  2100  0.490870  0.0\n42  2150  0.508005  0.0\n43  2200  0.470185  0.0\n44  2250  0.485231  0.0\n45  2300  0.492063  0.0\n46  2350  0.469661  0.0\n47  2400  0.505884  0.0\n48  2450  0.493160  0.0\n49  2500  0.493188  0.0\n50  2550  0.506205  0.0\n51  2600  0.499189  0.0\n52  2650  0.499348  0.0\n53  2700  0.478984  0.0\n54  2750  0.479548  0.0\n55  2800  0.485235  0.0\n56  2850  0.452611  0.0\n57  2900  0.474928  0.0\n58  2950  0.474579  0.0\n59  3000  0.516830  0.0",
      "text/html": "<div>\n<style scoped>\n    .dataframe tbody tr th:only-of-type {\n        vertical-align: middle;\n    }\n\n    .dataframe tbody tr th {\n        vertical-align: top;\n    }\n\n    .dataframe thead th {\n        text-align: right;\n    }\n</style>\n<table border=\"1\" class=\"dataframe\">\n  <thead>\n    <tr style=\"text-align: right;\">\n      <th></th>\n      <th>0</th>\n      <th>1</th>\n      <th>2</th>\n    </tr>\n  </thead>\n  <tbody>\n    <tr>\n      <th>0</th>\n      <td>50</td>\n      <td>0.627323</td>\n      <td>0.0</td>\n    </tr>\n    <tr>\n      <th>1</th>\n      <td>100</td>\n      <td>0.667447</td>\n      <td>0.0</td>\n    </tr>\n    <tr>\n      <th>2</th>\n      <td>150</td>\n      <td>0.679127</td>\n      <td>0.0</td>\n    </tr>\n    <tr>\n      <th>3</th>\n      <td>200</td>\n      <td>0.586238</td>\n      <td>0.0</td>\n    </tr>\n    <tr>\n      <th>4</th>\n      <td>250</td>\n      <td>0.597216</td>\n      <td>0.0</td>\n    </tr>\n    <tr>\n      <th>5</th>\n      <td>300</td>\n      <td>0.520660</td>\n      <td>0.0</td>\n    </tr>\n    <tr>\n      <th>6</th>\n      <td>350</td>\n      <td>0.498443</td>\n      <td>0.0</td>\n    </tr>\n    <tr>\n      <th>7</th>\n      <td>400</td>\n      <td>0.516702</td>\n      <td>0.0</td>\n    </tr>\n    <tr>\n      <th>8</th>\n      <td>450</td>\n      <td>0.490989</td>\n      <td>0.0</td>\n    </tr>\n    <tr>\n      <th>9</th>\n      <td>500</td>\n      <td>0.506362</td>\n      <td>0.0</td>\n    </tr>\n    <tr>\n      <th>10</th>\n      <td>550</td>\n      <td>0.511340</td>\n      <td>0.0</td>\n    </tr>\n    <tr>\n      <th>11</th>\n      <td>600</td>\n      <td>0.439592</td>\n      <td>0.0</td>\n    </tr>\n    <tr>\n      <th>12</th>\n      <td>650</td>\n      <td>0.471234</td>\n      <td>0.0</td>\n    </tr>\n    <tr>\n      <th>13</th>\n      <td>700</td>\n      <td>0.535457</td>\n      <td>0.0</td>\n    </tr>\n    <tr>\n      <th>14</th>\n      <td>750</td>\n      <td>0.505346</td>\n      <td>0.0</td>\n    </tr>\n    <tr>\n      <th>15</th>\n      <td>800</td>\n      <td>0.514738</td>\n      <td>0.0</td>\n    </tr>\n    <tr>\n      <th>16</th>\n      <td>850</td>\n      <td>0.503424</td>\n      <td>0.0</td>\n    </tr>\n    <tr>\n      <th>17</th>\n      <td>900</td>\n      <td>0.492944</td>\n      <td>0.0</td>\n    </tr>\n    <tr>\n      <th>18</th>\n      <td>950</td>\n      <td>0.508385</td>\n      <td>0.0</td>\n    </tr>\n    <tr>\n      <th>19</th>\n      <td>1000</td>\n      <td>0.505052</td>\n      <td>0.0</td>\n    </tr>\n    <tr>\n      <th>20</th>\n      <td>1050</td>\n      <td>0.484398</td>\n      <td>0.0</td>\n    </tr>\n    <tr>\n      <th>21</th>\n      <td>1100</td>\n      <td>0.498968</td>\n      <td>0.0</td>\n    </tr>\n    <tr>\n      <th>22</th>\n      <td>1150</td>\n      <td>0.521870</td>\n      <td>0.0</td>\n    </tr>\n    <tr>\n      <th>23</th>\n      <td>1200</td>\n      <td>0.486381</td>\n      <td>0.0</td>\n    </tr>\n    <tr>\n      <th>24</th>\n      <td>1250</td>\n      <td>0.531146</td>\n      <td>0.0</td>\n    </tr>\n    <tr>\n      <th>25</th>\n      <td>1300</td>\n      <td>0.503957</td>\n      <td>0.0</td>\n    </tr>\n    <tr>\n      <th>26</th>\n      <td>1350</td>\n      <td>0.529398</td>\n      <td>0.0</td>\n    </tr>\n    <tr>\n      <th>27</th>\n      <td>1400</td>\n      <td>0.484261</td>\n      <td>0.0</td>\n    </tr>\n    <tr>\n      <th>28</th>\n      <td>1450</td>\n      <td>0.487099</td>\n      <td>0.0</td>\n    </tr>\n    <tr>\n      <th>29</th>\n      <td>1500</td>\n      <td>0.481455</td>\n      <td>0.0</td>\n    </tr>\n    <tr>\n      <th>30</th>\n      <td>1550</td>\n      <td>0.493554</td>\n      <td>0.0</td>\n    </tr>\n    <tr>\n      <th>31</th>\n      <td>1600</td>\n      <td>0.498325</td>\n      <td>0.0</td>\n    </tr>\n    <tr>\n      <th>32</th>\n      <td>1650</td>\n      <td>0.471726</td>\n      <td>0.0</td>\n    </tr>\n    <tr>\n      <th>33</th>\n      <td>1700</td>\n      <td>0.464198</td>\n      <td>0.0</td>\n    </tr>\n    <tr>\n      <th>34</th>\n      <td>1750</td>\n      <td>0.494644</td>\n      <td>0.0</td>\n    </tr>\n    <tr>\n      <th>35</th>\n      <td>1800</td>\n      <td>0.467529</td>\n      <td>0.0</td>\n    </tr>\n    <tr>\n      <th>36</th>\n      <td>1850</td>\n      <td>0.504703</td>\n      <td>0.0</td>\n    </tr>\n    <tr>\n      <th>37</th>\n      <td>1900</td>\n      <td>0.500284</td>\n      <td>0.0</td>\n    </tr>\n    <tr>\n      <th>38</th>\n      <td>1950</td>\n      <td>0.498396</td>\n      <td>0.0</td>\n    </tr>\n    <tr>\n      <th>39</th>\n      <td>2000</td>\n      <td>0.485066</td>\n      <td>0.0</td>\n    </tr>\n    <tr>\n      <th>40</th>\n      <td>2050</td>\n      <td>0.472921</td>\n      <td>0.0</td>\n    </tr>\n    <tr>\n      <th>41</th>\n      <td>2100</td>\n      <td>0.490870</td>\n      <td>0.0</td>\n    </tr>\n    <tr>\n      <th>42</th>\n      <td>2150</td>\n      <td>0.508005</td>\n      <td>0.0</td>\n    </tr>\n    <tr>\n      <th>43</th>\n      <td>2200</td>\n      <td>0.470185</td>\n      <td>0.0</td>\n    </tr>\n    <tr>\n      <th>44</th>\n      <td>2250</td>\n      <td>0.485231</td>\n      <td>0.0</td>\n    </tr>\n    <tr>\n      <th>45</th>\n      <td>2300</td>\n      <td>0.492063</td>\n      <td>0.0</td>\n    </tr>\n    <tr>\n      <th>46</th>\n      <td>2350</td>\n      <td>0.469661</td>\n      <td>0.0</td>\n    </tr>\n    <tr>\n      <th>47</th>\n      <td>2400</td>\n      <td>0.505884</td>\n      <td>0.0</td>\n    </tr>\n    <tr>\n      <th>48</th>\n      <td>2450</td>\n      <td>0.493160</td>\n      <td>0.0</td>\n    </tr>\n    <tr>\n      <th>49</th>\n      <td>2500</td>\n      <td>0.493188</td>\n      <td>0.0</td>\n    </tr>\n    <tr>\n      <th>50</th>\n      <td>2550</td>\n      <td>0.506205</td>\n      <td>0.0</td>\n    </tr>\n    <tr>\n      <th>51</th>\n      <td>2600</td>\n      <td>0.499189</td>\n      <td>0.0</td>\n    </tr>\n    <tr>\n      <th>52</th>\n      <td>2650</td>\n      <td>0.499348</td>\n      <td>0.0</td>\n    </tr>\n    <tr>\n      <th>53</th>\n      <td>2700</td>\n      <td>0.478984</td>\n      <td>0.0</td>\n    </tr>\n    <tr>\n      <th>54</th>\n      <td>2750</td>\n      <td>0.479548</td>\n      <td>0.0</td>\n    </tr>\n    <tr>\n      <th>55</th>\n      <td>2800</td>\n      <td>0.485235</td>\n      <td>0.0</td>\n    </tr>\n    <tr>\n      <th>56</th>\n      <td>2850</td>\n      <td>0.452611</td>\n      <td>0.0</td>\n    </tr>\n    <tr>\n      <th>57</th>\n      <td>2900</td>\n      <td>0.474928</td>\n      <td>0.0</td>\n    </tr>\n    <tr>\n      <th>58</th>\n      <td>2950</td>\n      <td>0.474579</td>\n      <td>0.0</td>\n    </tr>\n    <tr>\n      <th>59</th>\n      <td>3000</td>\n      <td>0.516830</td>\n      <td>0.0</td>\n    </tr>\n  </tbody>\n</table>\n</div>"
     },
     "execution_count": 13,
     "metadata": {},
     "output_type": "execute_result"
    }
   ],
   "source": [
    "import pandas as pd\n",
    "\n",
    "embedding = (\"frankfrschlng\")\n",
    "df = pd.read_csv(\"embedding_datasets/\" + embedding + \"/results/face_study.csv\", sep=',', header=None)\n",
    "df[0] = df[0].transform(lambda path: int(path.split(\"step\")[1].split(\".\")[0]), axis=0)\n",
    "df = df.sort_values(by=[0])\n",
    "df = df.groupby(0).mean().reset_index()\n",
    "df"
   ]
  },
  {
   "cell_type": "code",
   "execution_count": 14,
   "outputs": [
    {
     "name": "stdout",
     "output_type": "stream",
     "text": [
      "cp embedding_datasets/frankfrschlng/model/frankfrschlng-step00000600.safetensors ~/ComfyUI/models/embeddings/frankfrschlng-step00000600.safetensors\n"
     ]
    }
   ],
   "source": [
    "patience = 3\n",
    "threshold = 0.4\n",
    "current = 0\n",
    "best_embedding_step = None\n",
    "for index, checkpoint in df.iterrows():\n",
    "    if checkpoint[1] < threshold:\n",
    "        current += 1\n",
    "        if current == patience:\n",
    "            best_embedding_step = checkpoint[0]\n",
    "            break\n",
    "    else:\n",
    "        current = 0\n",
    "else:\n",
    "    best_embedding_step = df[df[1] == df[1].min()][0].iloc[0]\n",
    "best_embedding_step = int(best_embedding_step.item())\n",
    "print(\"cp embedding_datasets/\"+embedding+\"/model/\"+embedding+\"-step\"+str(best_embedding_step).zfill(8)+\".safetensors ~/ComfyUI/models/embeddings/\"+embedding+\"-step\"+str(best_embedding_step).zfill(8)+\".safetensors\")"
   ],
   "metadata": {
    "collapsed": false,
    "ExecuteTime": {
     "end_time": "2023-10-10T18:17:05.034071390Z",
     "start_time": "2023-10-10T18:17:05.032766953Z"
    }
   },
   "id": "2da2f5e280da5217"
  }
 ],
 "metadata": {
  "kernelspec": {
   "display_name": "Python 3",
   "language": "python",
   "name": "python3"
  },
  "language_info": {
   "codemirror_mode": {
    "name": "ipython",
    "version": 2
   },
   "file_extension": ".py",
   "mimetype": "text/x-python",
   "name": "python",
   "nbconvert_exporter": "python",
   "pygments_lexer": "ipython2",
   "version": "2.7.6"
  }
 },
 "nbformat": 4,
 "nbformat_minor": 5
}
