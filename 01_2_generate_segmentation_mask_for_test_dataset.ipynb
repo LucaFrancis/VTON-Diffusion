{
 "cells": [
  {
   "cell_type": "code",
   "execution_count": null,
   "outputs": [],
   "source": [
    "import os\n",
    "\n",
    "import torch\n",
    "from PIL import Image\n",
    "from lang_sam import LangSAM\n",
    "from tqdm import tqdm\n",
    "import matplotlib.pyplot as plt\n",
    "import pandas as pd\n",
    "model = LangSAM()\n",
    "text_prompt = \"clothing, shoes, pants\"\n",
    "df = pd.read_csv(\"datasets/query_list.csv\")\n",
    "override_masks = False\n",
    "dataset_path = \"datasets/deep-fashion/In-shop Clothes Retrieval Benchmark/Img/\"\n",
    "for path in tqdm(df[\"image_name\"]):\n",
    "    mask_path = dataset_path + (\".\".join(path.split(\".\")[:-1])) + \"_mask_sam.png\"\n",
    "    if override_masks or not os.path.exists(mask_path):\n",
    "        image_pil = Image.open(dataset_path + path).convert(\"RGB\")\n",
    "        masks, _, _, _ = model.predict(image_pil, text_prompt, text_threshold=0.4)\n",
    "        \n",
    "        # Combine all detected objects into one mask\n",
    "        all_detections_mask = masks[0]\n",
    "        for mask in masks:\n",
    "            all_detections_mask = torch.logical_or(all_detections_mask, mask)\n",
    "    \n",
    "        plt.imsave(mask_path, arr=all_detections_mask, cmap=\"Greys\")"
   ],
   "metadata": {
    "collapsed": false
   },
   "id": "33d2634194b18bf"
  }
 ],
 "metadata": {
  "kernelspec": {
   "display_name": "Python 3",
   "language": "python",
   "name": "python3"
  },
  "language_info": {
   "codemirror_mode": {
    "name": "ipython",
    "version": 2
   },
   "file_extension": ".py",
   "mimetype": "text/x-python",
   "name": "python",
   "nbconvert_exporter": "python",
   "pygments_lexer": "ipython2",
   "version": "2.7.6"
  }
 },
 "nbformat": 4,
 "nbformat_minor": 5
}
